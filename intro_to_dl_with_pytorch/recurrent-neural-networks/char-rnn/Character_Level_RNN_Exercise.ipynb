{
 "cells": [
  {
   "cell_type": "markdown",
   "metadata": {
    "colab_type": "text",
    "id": "2yBqUHwAGCb5"
   },
   "source": [
    "# Character-Level LSTM in PyTorch\n",
    "\n",
    "In this notebook, I'll construct a character-level LSTM with PyTorch. The network will train character by character on some text, then generate new text character by character. As an example, I will train on Anna Karenina. **This model will be able to generate new text based on the text from the book!**\n",
    "\n",
    "This network is based off of Andrej Karpathy's [post on RNNs](http://karpathy.github.io/2015/05/21/rnn-effectiveness/) and [implementation in Torch](https://github.com/karpathy/char-rnn). Below is the general architecture of the character-wise RNN.\n",
    "\n",
    "<img src=\"assets/charseq.jpeg\" width=\"500\">"
   ]
  },
  {
   "cell_type": "markdown",
   "metadata": {
    "colab_type": "text",
    "id": "ZCxJ-2ebGCb8"
   },
   "source": [
    "First let's load in our required resources for data loading and model creation."
   ]
  },
  {
   "cell_type": "code",
   "execution_count": 0,
   "metadata": {
    "colab": {},
    "colab_type": "code",
    "id": "nYEmbDgUGCb9"
   },
   "outputs": [],
   "source": [
    "import numpy as np\n",
    "import torch\n",
    "from torch import nn\n",
    "import torch.nn.functional as F"
   ]
  },
  {
   "cell_type": "markdown",
   "metadata": {
    "colab_type": "text",
    "id": "dXLD4wQSGCcH"
   },
   "source": [
    "## Load in Data\n",
    "\n",
    "Then, we'll load the Anna Karenina text file and convert it into integers for our network to use. "
   ]
  },
  {
   "cell_type": "code",
   "execution_count": 0,
   "metadata": {
    "colab": {},
    "colab_type": "code",
    "id": "mNRJCIzdGCcI"
   },
   "outputs": [],
   "source": [
    "# open text file and read in data as `text`\n",
    "with open('/content/drive/My Drive/uadacity/char-rnn/data/anna.txt', 'r') as f:\n",
    "    text = f.read()"
   ]
  },
  {
   "cell_type": "markdown",
   "metadata": {
    "colab_type": "text",
    "id": "5RSMLmUmGCcN"
   },
   "source": [
    "Let's check out the first 100 characters, make sure everything is peachy. According to the [American Book Review](http://americanbookreview.org/100bestlines.asp), this is the 6th best first line of a book ever."
   ]
  },
  {
   "cell_type": "code",
   "execution_count": 4,
   "metadata": {
    "colab": {
     "base_uri": "https://localhost:8080/",
     "height": 35
    },
    "colab_type": "code",
    "id": "vKgoF_n3GCcQ",
    "outputId": "0ee64b82-f91e-4520-9095-f854179d1557"
   },
   "outputs": [
    {
     "data": {
      "text/plain": [
       "'Chapter 1\\n\\n\\nHappy families are all alike; every unhappy family is unhappy in its own\\nway.\\n\\nEverythin'"
      ]
     },
     "execution_count": 4,
     "metadata": {
      "tags": []
     },
     "output_type": "execute_result"
    }
   ],
   "source": [
    "text[:100]"
   ]
  },
  {
   "cell_type": "markdown",
   "metadata": {
    "colab_type": "text",
    "id": "0MquAjntGCcY"
   },
   "source": [
    "### Tokenization\n",
    "\n",
    "In the cells, below, I'm creating a couple **dictionaries** to convert the characters to and from integers. Encoding the characters as integers makes it easier to use as input in the network."
   ]
  },
  {
   "cell_type": "code",
   "execution_count": 0,
   "metadata": {
    "colab": {},
    "colab_type": "code",
    "id": "CDJv9JEuGCcY"
   },
   "outputs": [],
   "source": [
    "# encode the text and map each character to an integer and vice versa\n",
    "\n",
    "# we create two dictionaries:\n",
    "# 1. int2char, which maps integers to characters\n",
    "# 2. char2int, which maps characters to unique integers\n",
    "chars = tuple(set(text))\n",
    "int2char = dict(enumerate(chars))\n",
    "char2int = {ch: ii for ii, ch in int2char.items()}\n",
    "\n",
    "# encode the text\n",
    "encoded = np.array([char2int[ch] for ch in text])"
   ]
  },
  {
   "cell_type": "markdown",
   "metadata": {
    "colab_type": "text",
    "id": "1EsPsD98GCcb"
   },
   "source": [
    "And we can see those same characters from above, encoded as integers."
   ]
  },
  {
   "cell_type": "code",
   "execution_count": 6,
   "metadata": {
    "colab": {
     "base_uri": "https://localhost:8080/",
     "height": 121
    },
    "colab_type": "code",
    "id": "Ta9THSKPGCcc",
    "outputId": "1f69611a-b54e-4e26-ed3b-bbc2ea56bf18"
   },
   "outputs": [
    {
     "data": {
      "text/plain": [
       "array([29, 47, 22, 14, 56, 13, 64, 35, 62, 45, 45, 45, 53, 22, 14, 14, 48,\n",
       "       35, 49, 22, 46, 12, 20, 12, 13, 61, 35, 22, 64, 13, 35, 22, 20, 20,\n",
       "       35, 22, 20, 12, 21, 13, 74, 35, 13, 69, 13, 64, 48, 35,  9, 80, 47,\n",
       "       22, 14, 14, 48, 35, 49, 22, 46, 12, 20, 48, 35, 12, 61, 35,  9, 80,\n",
       "       47, 22, 14, 14, 48, 35, 12, 80, 35, 12, 56, 61, 35, 39, 50, 80, 45,\n",
       "       50, 22, 48,  2, 45, 45, 75, 69, 13, 64, 48, 56, 47, 12, 80])"
      ]
     },
     "execution_count": 6,
     "metadata": {
      "tags": []
     },
     "output_type": "execute_result"
    }
   ],
   "source": [
    "encoded[:100]"
   ]
  },
  {
   "cell_type": "markdown",
   "metadata": {
    "colab_type": "text",
    "id": "Sbu1PSG4GCce"
   },
   "source": [
    "## Pre-processing the data\n",
    "\n",
    "As you can see in our char-RNN image above, our LSTM expects an input that is **one-hot encoded** meaning that each character is converted into an integer (via our created dictionary) and *then* converted into a column vector where only it's corresponding integer index will have the value of 1 and the rest of the vector will be filled with 0's. Since we're one-hot encoding the data, let's make a function to do that!\n"
   ]
  },
  {
   "cell_type": "code",
   "execution_count": 0,
   "metadata": {
    "colab": {},
    "colab_type": "code",
    "id": "J-LVPQTnGCcf"
   },
   "outputs": [],
   "source": [
    "def one_hot_encode(arr, n_labels):\n",
    "    \n",
    "    # Initialize the the encoded array\n",
    "    one_hot = np.zeros((arr.size, n_labels), dtype=np.float32)\n",
    "    \n",
    "    # Fill the appropriate elements with ones\n",
    "    one_hot[np.arange(one_hot.shape[0]), arr.flatten()] = 1.\n",
    "    \n",
    "    # Finally reshape it to get back to the original array\n",
    "    one_hot = one_hot.reshape((*arr.shape, n_labels))\n",
    "    \n",
    "    return one_hot"
   ]
  },
  {
   "cell_type": "code",
   "execution_count": 8,
   "metadata": {
    "colab": {
     "base_uri": "https://localhost:8080/",
     "height": 69
    },
    "colab_type": "code",
    "id": "d8gJlEmZGCcl",
    "outputId": "93a0791b-9e21-49f1-fe97-3378873b4e77"
   },
   "outputs": [
    {
     "name": "stdout",
     "output_type": "stream",
     "text": [
      "[[[0. 0. 0. 1. 0. 0. 0. 0.]\n",
      "  [0. 0. 0. 0. 0. 1. 0. 0.]\n",
      "  [0. 1. 0. 0. 0. 0. 0. 0.]]]\n"
     ]
    }
   ],
   "source": [
    "# check that the function works as expected\n",
    "test_seq = np.array([[3, 5, 1]])\n",
    "one_hot = one_hot_encode(test_seq, 8)\n",
    "\n",
    "print(one_hot)"
   ]
  },
  {
   "cell_type": "markdown",
   "metadata": {
    "colab_type": "text",
    "id": "zX59vEA0GCcp"
   },
   "source": [
    "## Making training mini-batches\n",
    "\n",
    "\n",
    "To train on this data, we also want to create mini-batches for training. Remember that we want our batches to be multiple sequences of some desired number of sequence steps. Considering a simple example, our batches would look like this:\n",
    "\n",
    "<img src=\"assets/sequence_batching@1x.png\" width=500px>\n",
    "\n",
    "\n",
    "<br>\n",
    "\n",
    "In this example, we'll take the encoded characters (passed in as the `arr` parameter) and split them into multiple sequences, given by `batch_size`. Each of our sequences will be `seq_length` long.\n",
    "\n",
    "### Creating Batches\n",
    "\n",
    "**1. The first thing we need to do is discard some of the text so we only have completely full mini-batches. **\n",
    "\n",
    "Each batch contains $N \\times M$ characters, where $N$ is the batch size (the number of sequences in a batch) and $M$ is the seq_length or number of time steps in a sequence. Then, to get the total number of batches, $K$, that we can make from the array `arr`, you divide the length of `arr` by the number of characters per batch. Once you know the number of batches, you can get the total number of characters to keep from `arr`, $N * M * K$.\n",
    "\n",
    "**2. After that, we need to split `arr` into $N$ batches. ** \n",
    "\n",
    "You can do this using `arr.reshape(size)` where `size` is a tuple containing the dimensions sizes of the reshaped array. We know we want $N$ sequences in a batch, so let's make that the size of the first dimension. For the second dimension, you can use `-1` as a placeholder in the size, it'll fill up the array with the appropriate data for you. After this, you should have an array that is $N \\times (M * K)$.\n",
    "\n",
    "**3. Now that we have this array, we can iterate through it to get our mini-batches. **\n",
    "\n",
    "The idea is each batch is a $N \\times M$ window on the $N \\times (M * K)$ array. For each subsequent batch, the window moves over by `seq_length`. We also want to create both the input and target arrays. Remember that the targets are just the inputs shifted over by one character. The way I like to do this window is use `range` to take steps of size `n_steps` from $0$ to `arr.shape[1]`, the total number of tokens in each sequence. That way, the integers you get from `range` always point to the start of a batch, and each window is `seq_length` wide.\n",
    "\n",
    "> **TODO:** Write the code for creating batches in the function below. The exercises in this notebook _will not be easy_. I've provided a notebook with solutions alongside this notebook. If you get stuck, checkout the solutions. The most important thing is that you don't copy and paste the code into here, **type out the solution code yourself.**"
   ]
  },
  {
   "cell_type": "code",
   "execution_count": 0,
   "metadata": {
    "colab": {},
    "colab_type": "code",
    "id": "Trx_gkNQGCcq"
   },
   "outputs": [],
   "source": [
    "def get_batches(arr, batch_size, seq_length):\n",
    "    '''Create a generator that returns batches of size\n",
    "       batch_size x seq_length from arr.\n",
    "       \n",
    "       Arguments\n",
    "       ---------\n",
    "       arr: Array you want to make batches from\n",
    "       batch_size: Batch size, the number of sequences per batch\n",
    "       seq_length: Number of encoded chars in a sequence\n",
    "    '''\n",
    "    \n",
    "    ## TODO: Get the number of batches we can make\n",
    "    n_batches = len(arr) // (batch_size * seq_length)\n",
    "    \n",
    "    ## TODO: Keep only enough characters to make full batches\n",
    "    arr = arr[:n_batches * batch_size * seq_length]\n",
    "    \n",
    "    ## TODO: Reshape into batch_size rows\n",
    "    arr = arr.reshape((batch_size, n_batches * seq_length))\n",
    "    \n",
    "    ## TODO: Iterate over the batches using a window of size seq_length\n",
    "    for n in range(0, arr.shape[1], seq_length):\n",
    "        # The features\n",
    "        x = arr[:,n:n+seq_length]\n",
    "        # The targets, shifted by one\n",
    "        y = np.zeros_like(x)\n",
    "        try:\n",
    "            y[:, :-1], y[:, -1] = x[:, 1:], arr[:, n+seq_length]\n",
    "        except IndexError:\n",
    "            y[:, :-1], y[:, -1] = x[:, 1:], arr[:, 0]\n",
    "        yield x, y"
   ]
  },
  {
   "cell_type": "markdown",
   "metadata": {
    "colab_type": "text",
    "id": "6WWyd2E5GCcu"
   },
   "source": [
    "### Test Your Implementation\n",
    "\n",
    "Now I'll make some data sets and we can check out what's going on as we batch data. Here, as an example, I'm going to use a batch size of 8 and 50 sequence steps."
   ]
  },
  {
   "cell_type": "code",
   "execution_count": 0,
   "metadata": {
    "colab": {},
    "colab_type": "code",
    "id": "U2qoDjAYGCcv"
   },
   "outputs": [],
   "source": [
    "batches = get_batches(encoded, 8, 50)\n",
    "x, y = next(batches)"
   ]
  },
  {
   "cell_type": "code",
   "execution_count": 11,
   "metadata": {
    "colab": {
     "base_uri": "https://localhost:8080/",
     "height": 347
    },
    "colab_type": "code",
    "id": "f7cGA91eGCcz",
    "outputId": "f2672cf0-1c93-4c10-8cc4-23f8f7b5a0ff"
   },
   "outputs": [
    {
     "name": "stdout",
     "output_type": "stream",
     "text": [
      "x\n",
      " [[29 47 22 14 56 13 64 35 62 45]\n",
      " [61 39 80 35 56 47 22 56 35 22]\n",
      " [13 80 28 35 39 64 35 22 35 49]\n",
      " [61 35 56 47 13 35 36 47 12 13]\n",
      " [35 61 22 50 35 47 13 64 35 56]\n",
      " [36  9 61 61 12 39 80 35 22 80]\n",
      " [35 65 80 80 22 35 47 22 28 35]\n",
      " [81 60 20 39 80 61 21 48  2 35]]\n",
      "\n",
      "y\n",
      " [[47 22 14 56 13 64 35 62 45 45]\n",
      " [39 80 35 56 47 22 56 35 22 56]\n",
      " [80 28 35 39 64 35 22 35 49 39]\n",
      " [35 56 47 13 35 36 47 12 13 49]\n",
      " [61 22 50 35 47 13 64 35 56 13]\n",
      " [ 9 61 61 12 39 80 35 22 80 28]\n",
      " [65 80 80 22 35 47 22 28 35 61]\n",
      " [60 20 39 80 61 21 48  2 35 15]]\n"
     ]
    }
   ],
   "source": [
    "# printing out the first 10 items in a sequence\n",
    "print('x\\n', x[:10, :10])\n",
    "print('\\ny\\n', y[:10, :10])"
   ]
  },
  {
   "cell_type": "markdown",
   "metadata": {
    "colab_type": "text",
    "id": "reUFeRe8GCc3"
   },
   "source": [
    "If you implemented `get_batches` correctly, the above output should look something like \n",
    "```\n",
    "x\n",
    " [[25  8 60 11 45 27 28 73  1  2]\n",
    " [17  7 20 73 45  8 60 45 73 60]\n",
    " [27 20 80 73  7 28 73 60 73 65]\n",
    " [17 73 45  8 27 73 66  8 46 27]\n",
    " [73 17 60 12 73  8 27 28 73 45]\n",
    " [66 64 17 17 46  7 20 73 60 20]\n",
    " [73 76 20 20 60 73  8 60 80 73]\n",
    " [47 35 43  7 20 17 24 50 37 73]]\n",
    "\n",
    "y\n",
    " [[ 8 60 11 45 27 28 73  1  2  2]\n",
    " [ 7 20 73 45  8 60 45 73 60 45]\n",
    " [20 80 73  7 28 73 60 73 65  7]\n",
    " [73 45  8 27 73 66  8 46 27 65]\n",
    " [17 60 12 73  8 27 28 73 45 27]\n",
    " [64 17 17 46  7 20 73 60 20 80]\n",
    " [76 20 20 60 73  8 60 80 73 17]\n",
    " [35 43  7 20 17 24 50 37 73 36]]\n",
    " ```\n",
    " although the exact numbers may be different. Check to make sure the data is shifted over one step for `y`."
   ]
  },
  {
   "cell_type": "markdown",
   "metadata": {
    "colab_type": "text",
    "id": "LnUoPmNTGCc4"
   },
   "source": [
    "---\n",
    "## Defining the network with PyTorch\n",
    "\n",
    "Below is where you'll define the network.\n",
    "\n",
    "<img src=\"assets/charRNN.png\" width=500px>\n",
    "\n",
    "Next, you'll use PyTorch to define the architecture of the network. We start by defining the layers and operations we want. Then, define a method for the forward pass. You've also been given a method for predicting characters."
   ]
  },
  {
   "cell_type": "markdown",
   "metadata": {
    "colab_type": "text",
    "id": "YY8gqphXGCc5"
   },
   "source": [
    "### Model Structure\n",
    "\n",
    "In `__init__` the suggested structure is as follows:\n",
    "* Create and store the necessary dictionaries (this has been done for you)\n",
    "* Define an LSTM layer that takes as params: an input size (the number of characters), a hidden layer size `n_hidden`, a number of layers `n_layers`, a dropout probability `drop_prob`, and a batch_first boolean (True, since we are batching)\n",
    "* Define a dropout layer with `drop_prob`\n",
    "* Define a fully-connected layer with params: input size `n_hidden` and output size (the number of characters)\n",
    "* Finally, initialize the weights (again, this has been given)\n",
    "\n",
    "Note that some parameters have been named and given in the `__init__` function, and we use them and store them by doing something like `self.drop_prob = drop_prob`."
   ]
  },
  {
   "cell_type": "markdown",
   "metadata": {
    "colab_type": "text",
    "id": "f400PIq2GCc6"
   },
   "source": [
    "---\n",
    "### LSTM Inputs/Outputs\n",
    "\n",
    "You can create a basic [LSTM layer](https://pytorch.org/docs/stable/nn.html#lstm) as follows\n",
    "\n",
    "```python\n",
    "self.lstm = nn.LSTM(input_size, n_hidden, n_layers, \n",
    "                            dropout=drop_prob, batch_first=True)\n",
    "```\n",
    "\n",
    "where `input_size` is the number of characters this cell expects to see as sequential input, and `n_hidden` is the number of units in the hidden layers in the cell. And we can add dropout by adding a dropout parameter with a specified probability; this will automatically add dropout to the inputs or outputs. Finally, in the `forward` function, we can stack up the LSTM cells into layers using `.view`. With this, you pass in a list of cells and it will send the output of one cell into the next cell.\n",
    "\n",
    "We also need to create an initial hidden state of all zeros. This is done like so\n",
    "\n",
    "```python\n",
    "self.init_hidden()\n",
    "```"
   ]
  },
  {
   "cell_type": "code",
   "execution_count": 12,
   "metadata": {
    "colab": {
     "base_uri": "https://localhost:8080/",
     "height": 35
    },
    "colab_type": "code",
    "id": "9Uqn5GnvGCc7",
    "outputId": "2aa4d5b1-e041-4ec2-d7b5-d7f9050d662e"
   },
   "outputs": [
    {
     "name": "stdout",
     "output_type": "stream",
     "text": [
      "Training on GPU!\n"
     ]
    }
   ],
   "source": [
    "# check if GPU is available\n",
    "train_on_gpu = torch.cuda.is_available()\n",
    "if(train_on_gpu):\n",
    "    print('Training on GPU!')\n",
    "else: \n",
    "    print('No GPU available, training on CPU; consider making n_epochs very small.')"
   ]
  },
  {
   "cell_type": "code",
   "execution_count": 0,
   "metadata": {
    "colab": {},
    "colab_type": "code",
    "id": "h6UxAzFNGCc9"
   },
   "outputs": [],
   "source": [
    "class CharRNN(nn.Module):\n",
    "    \n",
    "    def __init__(self, tokens, n_hidden=256, n_layers=2,\n",
    "                               drop_prob=0.5, lr=0.001):\n",
    "        super().__init__()\n",
    "        self.drop_prob = drop_prob\n",
    "        self.n_layers = n_layers\n",
    "        self.n_hidden = n_hidden\n",
    "        self.lr = lr\n",
    "        \n",
    "        # creating character dictionaries\n",
    "        self.chars = tokens\n",
    "        self.int2char = dict(enumerate(self.chars))\n",
    "        self.char2int = {ch: ii for ii, ch in self.int2char.items()}\n",
    "        \n",
    "        ## TODO: define the layers of the model\n",
    "        self.lstm = nn.LSTM(len(tokens), n_hidden, n_layers, dropout=drop_prob, batch_first=True)\n",
    "        self.fc1 = nn.Linear(n_hidden, len(tokens))\n",
    "    \n",
    "    def forward(self, x, hidden):\n",
    "        ''' Forward pass through the network. \n",
    "            These inputs are x, and the hidden/cell state `hidden`. '''\n",
    "                \n",
    "        ## TODO: Get the outputs and the new hidden state from the lstm\n",
    "        out, hidden = self.lstm(x, hidden)\n",
    "        out = out.contiguous().view(-1, self.n_hidden)\n",
    "        \n",
    "        ## TODO: put x through the fully-connected layer\n",
    "        out = self.fc1(out)\n",
    "      \n",
    "        # return the final output and the hidden state\n",
    "        return out, hidden\n",
    "    \n",
    "    \n",
    "    def init_hidden(self, batch_size):\n",
    "        ''' Initializes hidden state '''\n",
    "        # Create two new tensors with sizes n_layers x batch_size x n_hidden,\n",
    "        # initialized to zero, for hidden state and cell state of LSTM\n",
    "        weight = next(self.parameters()).data\n",
    "        \n",
    "        if (train_on_gpu):\n",
    "            hidden = (weight.new(self.n_layers, batch_size, self.n_hidden).zero_().cuda(),\n",
    "                  weight.new(self.n_layers, batch_size, self.n_hidden).zero_().cuda())\n",
    "        else:\n",
    "            hidden = (weight.new(self.n_layers, batch_size, self.n_hidden).zero_(),\n",
    "                      weight.new(self.n_layers, batch_size, self.n_hidden).zero_())\n",
    "        \n",
    "        return hidden\n",
    "        "
   ]
  },
  {
   "cell_type": "markdown",
   "metadata": {
    "colab_type": "text",
    "id": "7U150VRkGCc_"
   },
   "source": [
    "## Time to train\n",
    "\n",
    "The train function gives us the ability to set the number of epochs, the learning rate, and other parameters.\n",
    "\n",
    "Below we're using an Adam optimizer and cross entropy loss since we are looking at character class scores as output. We calculate the loss and perform backpropagation, as usual!\n",
    "\n",
    "A couple of details about training: \n",
    ">* Within the batch loop, we detach the hidden state from its history; this time setting it equal to a new *tuple* variable because an LSTM has a hidden state that is a tuple of the hidden and cell states.\n",
    "* We use [`clip_grad_norm_`](https://pytorch.org/docs/stable/_modules/torch/nn/utils/clip_grad.html) to help prevent exploding gradients."
   ]
  },
  {
   "cell_type": "code",
   "execution_count": 0,
   "metadata": {
    "colab": {},
    "colab_type": "code",
    "id": "DY8Vl1LrGCdA"
   },
   "outputs": [],
   "source": [
    "def train(net, data, epochs=10, batch_size=10, seq_length=50, lr=0.001, clip=5, val_frac=0.1, print_every=10):\n",
    "    ''' Training a network \n",
    "    \n",
    "        Arguments\n",
    "        ---------\n",
    "        \n",
    "        net: CharRNN network\n",
    "        data: text data to train the network\n",
    "        epochs: Number of epochs to train\n",
    "        batch_size: Number of mini-sequences per mini-batch, aka batch size\n",
    "        seq_length: Number of character steps per mini-batch\n",
    "        lr: learning rate\n",
    "        clip: gradient clipping\n",
    "        val_frac: Fraction of data to hold out for validation\n",
    "        print_every: Number of steps for printing training and validation loss\n",
    "    \n",
    "    '''\n",
    "    net.train()\n",
    "    \n",
    "    opt = torch.optim.Adam(net.parameters(), lr=lr)\n",
    "    criterion = nn.CrossEntropyLoss()\n",
    "    \n",
    "    # create training and validation data\n",
    "    val_idx = int(len(data)*(1-val_frac))\n",
    "    data, val_data = data[:val_idx], data[val_idx:]\n",
    "    \n",
    "    if(train_on_gpu):\n",
    "        net.cuda()\n",
    "    \n",
    "    counter = 0\n",
    "    n_chars = len(net.chars)\n",
    "    for e in range(epochs):\n",
    "        # initialize hidden state\n",
    "        h = net.init_hidden(batch_size)\n",
    "        \n",
    "        for x, y in get_batches(data, batch_size, seq_length):\n",
    "            counter += 1\n",
    "            \n",
    "            # One-hot encode our data and make them Torch tensors\n",
    "            x = one_hot_encode(x, n_chars)\n",
    "            inputs, targets = torch.from_numpy(x), torch.from_numpy(y)\n",
    "            \n",
    "            if(train_on_gpu):\n",
    "                inputs, targets = inputs.cuda(), targets.cuda()\n",
    "\n",
    "            # Creating new variables for the hidden state, otherwise\n",
    "            # we'd backprop through the entire training history\n",
    "            h = tuple([each.data for each in h])\n",
    "\n",
    "            # zero accumulated gradients\n",
    "            net.zero_grad()\n",
    "            \n",
    "            # get the output from the model\n",
    "            output, h = net(inputs, h)\n",
    "            \n",
    "            # calculate the loss and perform backprop\n",
    "            loss = criterion(output, targets.view(batch_size*seq_length).long())\n",
    "            loss.backward()\n",
    "            # `clip_grad_norm` helps prevent the exploding gradient problem in RNNs / LSTMs.\n",
    "            nn.utils.clip_grad_norm_(net.parameters(), clip)\n",
    "            opt.step()\n",
    "            \n",
    "            # loss stats\n",
    "            if counter % print_every == 0:\n",
    "                # Get validation loss\n",
    "                val_h = net.init_hidden(batch_size)\n",
    "                val_losses = []\n",
    "                net.eval()\n",
    "                for x, y in get_batches(val_data, batch_size, seq_length):\n",
    "                    # One-hot encode our data and make them Torch tensors\n",
    "                    x = one_hot_encode(x, n_chars)\n",
    "                    x, y = torch.from_numpy(x), torch.from_numpy(y)\n",
    "                    \n",
    "                    # Creating new variables for the hidden state, otherwise\n",
    "                    # we'd backprop through the entire training history\n",
    "                    val_h = tuple([each.data for each in val_h])\n",
    "                    \n",
    "                    inputs, targets = x, y\n",
    "                    if(train_on_gpu):\n",
    "                        inputs, targets = inputs.cuda(), targets.cuda()\n",
    "\n",
    "                    output, val_h = net(inputs, val_h)\n",
    "                    val_loss = criterion(output, targets.view(batch_size*seq_length).long())\n",
    "                \n",
    "                    val_losses.append(val_loss.item())\n",
    "                \n",
    "                net.train() # reset to train mode after iterationg through validation data\n",
    "                \n",
    "                print(\"Epoch: {}/{}...\".format(e+1, epochs),\n",
    "                      \"Step: {}...\".format(counter),\n",
    "                      \"Loss: {:.4f}...\".format(loss.item()),\n",
    "                      \"Val Loss: {:.4f}\".format(np.mean(val_losses)))"
   ]
  },
  {
   "cell_type": "markdown",
   "metadata": {
    "colab_type": "text",
    "id": "LUEFsGkOGCdD"
   },
   "source": [
    "## Instantiating the model\n",
    "\n",
    "Now we can actually train the network. First we'll create the network itself, with some given hyperparameters. Then, define the mini-batches sizes, and start training!"
   ]
  },
  {
   "cell_type": "code",
   "execution_count": 34,
   "metadata": {
    "colab": {
     "base_uri": "https://localhost:8080/",
     "height": 87
    },
    "colab_type": "code",
    "id": "hWIj5YUNGCdF",
    "outputId": "d60223a7-53ff-4ec9-f0aa-509799ac9f56"
   },
   "outputs": [
    {
     "name": "stdout",
     "output_type": "stream",
     "text": [
      "CharRNN(\n",
      "  (lstm): LSTM(83, 512, num_layers=2, batch_first=True, dropout=0.5)\n",
      "  (fc1): Linear(in_features=512, out_features=83, bias=True)\n",
      ")\n"
     ]
    }
   ],
   "source": [
    "## TODO: set your model hyperparameters\n",
    "# define and print the net\n",
    "n_hidden=512\n",
    "n_layers=2\n",
    "\n",
    "net = CharRNN(chars, n_hidden, n_layers)\n",
    "print(net)"
   ]
  },
  {
   "cell_type": "markdown",
   "metadata": {
    "colab_type": "text",
    "id": "0etqXJoFGCdJ"
   },
   "source": [
    "### Set your training hyperparameters!"
   ]
  },
  {
   "cell_type": "code",
   "execution_count": 36,
   "metadata": {
    "colab": {
     "base_uri": "https://localhost:8080/",
     "height": 1000
    },
    "colab_type": "code",
    "id": "caZWLLv8GCdJ",
    "outputId": "99fe230d-a339-4d05-fa08-246c4448fa99",
    "scrolled": true
   },
   "outputs": [
    {
     "name": "stdout",
     "output_type": "stream",
     "text": [
      "Epoch: 1/10... Step: 10... Loss: 2.0887... Val Loss: 2.0930\n",
      "Epoch: 1/10... Step: 20... Loss: 2.0472... Val Loss: 2.0656\n",
      "Epoch: 1/10... Step: 30... Loss: 2.0430... Val Loss: 2.0440\n",
      "Epoch: 1/10... Step: 40... Loss: 1.9966... Val Loss: 2.0356\n",
      "Epoch: 1/10... Step: 50... Loss: 2.0288... Val Loss: 2.0237\n",
      "Epoch: 1/10... Step: 60... Loss: 1.9527... Val Loss: 2.0132\n",
      "Epoch: 1/10... Step: 70... Loss: 1.9703... Val Loss: 2.0018\n",
      "Epoch: 1/10... Step: 80... Loss: 1.9514... Val Loss: 1.9905\n",
      "Epoch: 1/10... Step: 90... Loss: 1.9688... Val Loss: 1.9824\n",
      "Epoch: 1/10... Step: 100... Loss: 1.9356... Val Loss: 1.9693\n",
      "Epoch: 1/10... Step: 110... Loss: 1.9207... Val Loss: 1.9620\n",
      "Epoch: 1/10... Step: 120... Loss: 1.8786... Val Loss: 1.9512\n",
      "Epoch: 1/10... Step: 130... Loss: 1.9251... Val Loss: 1.9400\n",
      "Epoch: 2/10... Step: 140... Loss: 1.9248... Val Loss: 1.9282\n",
      "Epoch: 2/10... Step: 150... Loss: 1.8974... Val Loss: 1.9181\n",
      "Epoch: 2/10... Step: 160... Loss: 1.9036... Val Loss: 1.9079\n",
      "Epoch: 2/10... Step: 170... Loss: 1.8711... Val Loss: 1.8976\n",
      "Epoch: 2/10... Step: 180... Loss: 1.8403... Val Loss: 1.8872\n",
      "Epoch: 2/10... Step: 190... Loss: 1.8002... Val Loss: 1.8794\n",
      "Epoch: 2/10... Step: 200... Loss: 1.8056... Val Loss: 1.8671\n",
      "Epoch: 2/10... Step: 210... Loss: 1.8151... Val Loss: 1.8600\n",
      "Epoch: 2/10... Step: 220... Loss: 1.7841... Val Loss: 1.8482\n",
      "Epoch: 2/10... Step: 230... Loss: 1.8061... Val Loss: 1.8372\n",
      "Epoch: 2/10... Step: 240... Loss: 1.7954... Val Loss: 1.8281\n",
      "Epoch: 2/10... Step: 250... Loss: 1.7604... Val Loss: 1.8183\n",
      "Epoch: 2/10... Step: 260... Loss: 1.7245... Val Loss: 1.8069\n",
      "Epoch: 2/10... Step: 270... Loss: 1.7676... Val Loss: 1.7997\n",
      "Epoch: 3/10... Step: 280... Loss: 1.7496... Val Loss: 1.7906\n",
      "Epoch: 3/10... Step: 290... Loss: 1.7500... Val Loss: 1.7760\n",
      "Epoch: 3/10... Step: 300... Loss: 1.7143... Val Loss: 1.7687\n",
      "Epoch: 3/10... Step: 310... Loss: 1.7045... Val Loss: 1.7612\n",
      "Epoch: 3/10... Step: 320... Loss: 1.6751... Val Loss: 1.7529\n",
      "Epoch: 3/10... Step: 330... Loss: 1.6718... Val Loss: 1.7464\n",
      "Epoch: 3/10... Step: 340... Loss: 1.7121... Val Loss: 1.7364\n",
      "Epoch: 3/10... Step: 350... Loss: 1.6672... Val Loss: 1.7288\n",
      "Epoch: 3/10... Step: 360... Loss: 1.6269... Val Loss: 1.7214\n",
      "Epoch: 3/10... Step: 370... Loss: 1.6603... Val Loss: 1.7112\n",
      "Epoch: 3/10... Step: 380... Loss: 1.6550... Val Loss: 1.7039\n",
      "Epoch: 3/10... Step: 390... Loss: 1.6232... Val Loss: 1.6998\n",
      "Epoch: 3/10... Step: 400... Loss: 1.6043... Val Loss: 1.6912\n",
      "Epoch: 3/10... Step: 410... Loss: 1.6222... Val Loss: 1.6795\n",
      "Epoch: 4/10... Step: 420... Loss: 1.6177... Val Loss: 1.6755\n",
      "Epoch: 4/10... Step: 430... Loss: 1.6129... Val Loss: 1.6621\n",
      "Epoch: 4/10... Step: 440... Loss: 1.6072... Val Loss: 1.6602\n",
      "Epoch: 4/10... Step: 450... Loss: 1.5572... Val Loss: 1.6522\n",
      "Epoch: 4/10... Step: 460... Loss: 1.5359... Val Loss: 1.6463\n",
      "Epoch: 4/10... Step: 470... Loss: 1.5927... Val Loss: 1.6421\n",
      "Epoch: 4/10... Step: 480... Loss: 1.5823... Val Loss: 1.6392\n",
      "Epoch: 4/10... Step: 490... Loss: 1.5747... Val Loss: 1.6320\n",
      "Epoch: 4/10... Step: 500... Loss: 1.5728... Val Loss: 1.6226\n",
      "Epoch: 4/10... Step: 510... Loss: 1.5519... Val Loss: 1.6178\n",
      "Epoch: 4/10... Step: 520... Loss: 1.5593... Val Loss: 1.6117\n",
      "Epoch: 4/10... Step: 530... Loss: 1.5353... Val Loss: 1.6087\n",
      "Epoch: 4/10... Step: 540... Loss: 1.5036... Val Loss: 1.6021\n",
      "Epoch: 4/10... Step: 550... Loss: 1.5599... Val Loss: 1.5933\n",
      "Epoch: 5/10... Step: 560... Loss: 1.5160... Val Loss: 1.5905\n",
      "Epoch: 5/10... Step: 570... Loss: 1.5111... Val Loss: 1.5810\n",
      "Epoch: 5/10... Step: 580... Loss: 1.4957... Val Loss: 1.5782\n",
      "Epoch: 5/10... Step: 590... Loss: 1.4905... Val Loss: 1.5744\n",
      "Epoch: 5/10... Step: 600... Loss: 1.4846... Val Loss: 1.5687\n",
      "Epoch: 5/10... Step: 610... Loss: 1.4673... Val Loss: 1.5677\n",
      "Epoch: 5/10... Step: 620... Loss: 1.4839... Val Loss: 1.5630\n",
      "Epoch: 5/10... Step: 630... Loss: 1.4975... Val Loss: 1.5593\n",
      "Epoch: 5/10... Step: 640... Loss: 1.4568... Val Loss: 1.5536\n",
      "Epoch: 5/10... Step: 650... Loss: 1.4692... Val Loss: 1.5492\n",
      "Epoch: 5/10... Step: 660... Loss: 1.4493... Val Loss: 1.5424\n",
      "Epoch: 5/10... Step: 670... Loss: 1.4692... Val Loss: 1.5393\n",
      "Epoch: 5/10... Step: 680... Loss: 1.4693... Val Loss: 1.5376\n",
      "Epoch: 5/10... Step: 690... Loss: 1.4432... Val Loss: 1.5297\n",
      "Epoch: 6/10... Step: 700... Loss: 1.4436... Val Loss: 1.5274\n",
      "Epoch: 6/10... Step: 710... Loss: 1.4377... Val Loss: 1.5230\n",
      "Epoch: 6/10... Step: 720... Loss: 1.4279... Val Loss: 1.5179\n",
      "Epoch: 6/10... Step: 730... Loss: 1.4412... Val Loss: 1.5152\n",
      "Epoch: 6/10... Step: 740... Loss: 1.4124... Val Loss: 1.5101\n",
      "Epoch: 6/10... Step: 750... Loss: 1.4024... Val Loss: 1.5119\n",
      "Epoch: 6/10... Step: 760... Loss: 1.4475... Val Loss: 1.5058\n",
      "Epoch: 6/10... Step: 770... Loss: 1.4202... Val Loss: 1.5031\n",
      "Epoch: 6/10... Step: 780... Loss: 1.4119... Val Loss: 1.4996\n",
      "Epoch: 6/10... Step: 790... Loss: 1.3918... Val Loss: 1.4973\n",
      "Epoch: 6/10... Step: 800... Loss: 1.4144... Val Loss: 1.4928\n",
      "Epoch: 6/10... Step: 810... Loss: 1.3943... Val Loss: 1.4903\n",
      "Epoch: 6/10... Step: 820... Loss: 1.3612... Val Loss: 1.4914\n",
      "Epoch: 6/10... Step: 830... Loss: 1.4052... Val Loss: 1.4836\n",
      "Epoch: 7/10... Step: 840... Loss: 1.3712... Val Loss: 1.4826\n",
      "Epoch: 7/10... Step: 850... Loss: 1.3891... Val Loss: 1.4774\n",
      "Epoch: 7/10... Step: 860... Loss: 1.3624... Val Loss: 1.4712\n",
      "Epoch: 7/10... Step: 870... Loss: 1.3801... Val Loss: 1.4689\n",
      "Epoch: 7/10... Step: 880... Loss: 1.3840... Val Loss: 1.4675\n",
      "Epoch: 7/10... Step: 890... Loss: 1.3906... Val Loss: 1.4650\n",
      "Epoch: 7/10... Step: 900... Loss: 1.3693... Val Loss: 1.4635\n",
      "Epoch: 7/10... Step: 910... Loss: 1.3359... Val Loss: 1.4625\n",
      "Epoch: 7/10... Step: 920... Loss: 1.3613... Val Loss: 1.4624\n",
      "Epoch: 7/10... Step: 930... Loss: 1.3489... Val Loss: 1.4588\n",
      "Epoch: 7/10... Step: 940... Loss: 1.3520... Val Loss: 1.4544\n",
      "Epoch: 7/10... Step: 950... Loss: 1.3674... Val Loss: 1.4511\n",
      "Epoch: 7/10... Step: 960... Loss: 1.3675... Val Loss: 1.4485\n",
      "Epoch: 7/10... Step: 970... Loss: 1.3677... Val Loss: 1.4429\n",
      "Epoch: 8/10... Step: 980... Loss: 1.3371... Val Loss: 1.4465\n",
      "Epoch: 8/10... Step: 990... Loss: 1.3362... Val Loss: 1.4388\n",
      "Epoch: 8/10... Step: 1000... Loss: 1.3373... Val Loss: 1.4400\n",
      "Epoch: 8/10... Step: 1010... Loss: 1.3746... Val Loss: 1.4342\n",
      "Epoch: 8/10... Step: 1020... Loss: 1.3476... Val Loss: 1.4361\n",
      "Epoch: 8/10... Step: 1030... Loss: 1.3283... Val Loss: 1.4312\n",
      "Epoch: 8/10... Step: 1040... Loss: 1.3369... Val Loss: 1.4315\n",
      "Epoch: 8/10... Step: 1050... Loss: 1.3188... Val Loss: 1.4269\n",
      "Epoch: 8/10... Step: 1060... Loss: 1.3245... Val Loss: 1.4287\n",
      "Epoch: 8/10... Step: 1070... Loss: 1.3316... Val Loss: 1.4284\n",
      "Epoch: 8/10... Step: 1080... Loss: 1.3300... Val Loss: 1.4214\n",
      "Epoch: 8/10... Step: 1090... Loss: 1.3070... Val Loss: 1.4177\n",
      "Epoch: 8/10... Step: 1100... Loss: 1.3011... Val Loss: 1.4211\n",
      "Epoch: 8/10... Step: 1110... Loss: 1.3072... Val Loss: 1.4122\n",
      "Epoch: 9/10... Step: 1120... Loss: 1.3206... Val Loss: 1.4206\n",
      "Epoch: 9/10... Step: 1130... Loss: 1.3258... Val Loss: 1.4108\n",
      "Epoch: 9/10... Step: 1140... Loss: 1.3196... Val Loss: 1.4113\n",
      "Epoch: 9/10... Step: 1150... Loss: 1.3429... Val Loss: 1.4118\n",
      "Epoch: 9/10... Step: 1160... Loss: 1.2942... Val Loss: 1.4105\n",
      "Epoch: 9/10... Step: 1170... Loss: 1.3036... Val Loss: 1.4066\n",
      "Epoch: 9/10... Step: 1180... Loss: 1.2948... Val Loss: 1.4072\n",
      "Epoch: 9/10... Step: 1190... Loss: 1.3310... Val Loss: 1.4049\n",
      "Epoch: 9/10... Step: 1200... Loss: 1.2887... Val Loss: 1.4036\n",
      "Epoch: 9/10... Step: 1210... Loss: 1.2808... Val Loss: 1.4045\n",
      "Epoch: 9/10... Step: 1220... Loss: 1.2989... Val Loss: 1.3992\n",
      "Epoch: 9/10... Step: 1230... Loss: 1.2680... Val Loss: 1.3962\n",
      "Epoch: 9/10... Step: 1240... Loss: 1.2821... Val Loss: 1.3991\n",
      "Epoch: 9/10... Step: 1250... Loss: 1.2904... Val Loss: 1.3935\n",
      "Epoch: 10/10... Step: 1260... Loss: 1.2963... Val Loss: 1.3937\n",
      "Epoch: 10/10... Step: 1270... Loss: 1.2910... Val Loss: 1.3945\n",
      "Epoch: 10/10... Step: 1280... Loss: 1.3072... Val Loss: 1.3920\n",
      "Epoch: 10/10... Step: 1290... Loss: 1.2916... Val Loss: 1.3886\n",
      "Epoch: 10/10... Step: 1300... Loss: 1.2777... Val Loss: 1.3901\n",
      "Epoch: 10/10... Step: 1310... Loss: 1.2854... Val Loss: 1.3851\n",
      "Epoch: 10/10... Step: 1320... Loss: 1.2504... Val Loss: 1.3847\n",
      "Epoch: 10/10... Step: 1330... Loss: 1.2635... Val Loss: 1.3867\n",
      "Epoch: 10/10... Step: 1340... Loss: 1.2506... Val Loss: 1.3832\n",
      "Epoch: 10/10... Step: 1350... Loss: 1.2523... Val Loss: 1.3832\n",
      "Epoch: 10/10... Step: 1360... Loss: 1.2518... Val Loss: 1.3806\n",
      "Epoch: 10/10... Step: 1370... Loss: 1.2396... Val Loss: 1.3765\n",
      "Epoch: 10/10... Step: 1380... Loss: 1.2794... Val Loss: 1.3796\n",
      "Epoch: 10/10... Step: 1390... Loss: 1.2990... Val Loss: 1.3743\n"
     ]
    }
   ],
   "source": [
    "batch_size = 128\n",
    "seq_length = 100\n",
    "n_epochs =  10 # start small if you are just testing initial behavior\n",
    "\n",
    "# train the model\n",
    "train(net, encoded, epochs=n_epochs, batch_size=batch_size, seq_length=seq_length, lr=0.001, print_every=10)"
   ]
  },
  {
   "cell_type": "markdown",
   "metadata": {
    "colab_type": "text",
    "id": "jXod6v-_GCdN"
   },
   "source": [
    "## Getting the best model\n",
    "\n",
    "To set your hyperparameters to get the best performance, you'll want to watch the training and validation losses. If your training loss is much lower than the validation loss, you're overfitting. Increase regularization (more dropout) or use a smaller network. If the training and validation losses are close, you're underfitting so you can increase the size of the network."
   ]
  },
  {
   "cell_type": "markdown",
   "metadata": {
    "colab_type": "text",
    "id": "1MtH0OhOGCdO"
   },
   "source": [
    "## Hyperparameters\n",
    "\n",
    "Here are the hyperparameters for the network.\n",
    "\n",
    "In defining the model:\n",
    "* `n_hidden` - The number of units in the hidden layers.\n",
    "* `n_layers` - Number of hidden LSTM layers to use.\n",
    "\n",
    "We assume that dropout probability and learning rate will be kept at the default, in this example.\n",
    "\n",
    "And in training:\n",
    "* `batch_size` - Number of sequences running through the network in one pass.\n",
    "* `seq_length` - Number of characters in the sequence the network is trained on. Larger is better typically, the network will learn more long range dependencies. But it takes longer to train. 100 is typically a good number here.\n",
    "* `lr` - Learning rate for training\n",
    "\n",
    "Here's some good advice from Andrej Karpathy on training the network. I'm going to copy it in here for your benefit, but also link to [where it originally came from](https://github.com/karpathy/char-rnn#tips-and-tricks).\n",
    "\n",
    "> ## Tips and Tricks\n",
    "\n",
    ">### Monitoring Validation Loss vs. Training Loss\n",
    ">If you're somewhat new to Machine Learning or Neural Networks it can take a bit of expertise to get good models. The most important quantity to keep track of is the difference between your training loss (printed during training) and the validation loss (printed once in a while when the RNN is run on the validation data (by default every 1000 iterations)). In particular:\n",
    "\n",
    "> - If your training loss is much lower than validation loss then this means the network might be **overfitting**. Solutions to this are to decrease your network size, or to increase dropout. For example you could try dropout of 0.5 and so on.\n",
    "> - If your training/validation loss are about equal then your model is **underfitting**. Increase the size of your model (either number of layers or the raw number of neurons per layer)\n",
    "\n",
    "> ### Approximate number of parameters\n",
    "\n",
    "> The two most important parameters that control the model are `n_hidden` and `n_layers`. I would advise that you always use `n_layers` of either 2/3. The `n_hidden` can be adjusted based on how much data you have. The two important quantities to keep track of here are:\n",
    "\n",
    "> - The number of parameters in your model. This is printed when you start training.\n",
    "> - The size of your dataset. 1MB file is approximately 1 million characters.\n",
    "\n",
    ">These two should be about the same order of magnitude. It's a little tricky to tell. Here are some examples:\n",
    "\n",
    "> - I have a 100MB dataset and I'm using the default parameter settings (which currently print 150K parameters). My data size is significantly larger (100 mil >> 0.15 mil), so I expect to heavily underfit. I am thinking I can comfortably afford to make `n_hidden` larger.\n",
    "> - I have a 10MB dataset and running a 10 million parameter model. I'm slightly nervous and I'm carefully monitoring my validation loss. If it's larger than my training loss then I may want to try to increase dropout a bit and see if that helps the validation loss.\n",
    "\n",
    "> ### Best models strategy\n",
    "\n",
    ">The winning strategy to obtaining very good models (if you have the compute time) is to always err on making the network larger (as large as you're willing to wait for it to compute) and then try different dropout values (between 0,1). Whatever model has the best validation performance (the loss, written in the checkpoint filename, low is good) is the one you should use in the end.\n",
    "\n",
    ">It is very common in deep learning to run many different models with many different hyperparameter settings, and in the end take whatever checkpoint gave the best validation performance.\n",
    "\n",
    ">By the way, the size of your training and validation splits are also parameters. Make sure you have a decent amount of data in your validation set or otherwise the validation performance will be noisy and not very informative."
   ]
  },
  {
   "cell_type": "markdown",
   "metadata": {
    "colab_type": "text",
    "id": "h2x5RbMYGCdR"
   },
   "source": [
    "## Checkpoint\n",
    "\n",
    "After training, we'll save the model so we can load it again later if we need too. Here I'm saving the parameters needed to create the same architecture, the hidden layer hyperparameters and the text characters."
   ]
  },
  {
   "cell_type": "code",
   "execution_count": 0,
   "metadata": {
    "colab": {},
    "colab_type": "code",
    "id": "efHN68f5GCdU"
   },
   "outputs": [],
   "source": [
    "# change the name, for saving multiple files\n",
    "model_name = 'rnn_x_epoch.net'\n",
    "\n",
    "checkpoint = {'n_hidden': net.n_hidden,\n",
    "              'n_layers': net.n_layers,\n",
    "              'state_dict': net.state_dict(),\n",
    "              'tokens': net.chars}\n",
    "\n",
    "with open(model_name, 'wb') as f:\n",
    "    torch.save(checkpoint, f)"
   ]
  },
  {
   "cell_type": "markdown",
   "metadata": {
    "colab_type": "text",
    "id": "RFCXLiIhGCdZ"
   },
   "source": [
    "---\n",
    "## Making Predictions\n",
    "\n",
    "Now that the model is trained, we'll want to sample from it and make predictions about next characters! To sample, we pass in a character and have the network predict the next character. Then we take that character, pass it back in, and get another predicted character. Just keep doing this and you'll generate a bunch of text!\n",
    "\n",
    "### A note on the `predict`  function\n",
    "\n",
    "The output of our RNN is from a fully-connected layer and it outputs a **distribution of next-character scores**.\n",
    "\n",
    "> To actually get the next character, we apply a softmax function, which gives us a *probability* distribution that we can then sample to predict the next character.\n",
    "\n",
    "### Top K sampling\n",
    "\n",
    "Our predictions come from a categorical probability distribution over all the possible characters. We can make the sample text and make it more reasonable to handle (with less variables) by only considering some $K$ most probable characters. This will prevent the network from giving us completely absurd characters while allowing it to introduce some noise and randomness into the sampled text. Read more about [topk, here](https://pytorch.org/docs/stable/torch.html#torch.topk).\n"
   ]
  },
  {
   "cell_type": "code",
   "execution_count": 0,
   "metadata": {
    "colab": {},
    "colab_type": "code",
    "id": "n1jcnjYQGCda"
   },
   "outputs": [],
   "source": [
    "def predict(net, char, h=None, top_k=None):\n",
    "        ''' Given a character, predict the next character.\n",
    "            Returns the predicted character and the hidden state.\n",
    "        '''\n",
    "        \n",
    "        # tensor inputs\n",
    "        x = np.array([[net.char2int[char]]])\n",
    "        x = one_hot_encode(x, len(net.chars))\n",
    "        inputs = torch.from_numpy(x)\n",
    "        \n",
    "        if(train_on_gpu):\n",
    "            inputs = inputs.cuda()\n",
    "        \n",
    "        # detach hidden state from history\n",
    "        h = tuple([each.data for each in h])\n",
    "        # get the output of the model\n",
    "        out, h = net(inputs, h)\n",
    "\n",
    "        # get the character probabilities\n",
    "        p = F.softmax(out, dim=1).data\n",
    "        if(train_on_gpu):\n",
    "            p = p.cpu() # move to cpu\n",
    "        \n",
    "        # get top characters\n",
    "        if top_k is None:\n",
    "            top_ch = np.arange(len(net.chars))\n",
    "        else:\n",
    "            p, top_ch = p.topk(top_k)\n",
    "            top_ch = top_ch.numpy().squeeze()\n",
    "        \n",
    "        # select the likely next character with some element of randomness\n",
    "        p = p.numpy().squeeze()\n",
    "        char = np.random.choice(top_ch, p=p/p.sum())\n",
    "        \n",
    "        # return the encoded value of the predicted char and the hidden state\n",
    "        return net.int2char[char], h"
   ]
  },
  {
   "cell_type": "markdown",
   "metadata": {
    "colab_type": "text",
    "id": "8uU3YI4rGCdc"
   },
   "source": [
    "### Priming and generating text \n",
    "\n",
    "Typically you'll want to prime the network so you can build up a hidden state. Otherwise the network will start out generating characters at random. In general the first bunch of characters will be a little rough since it hasn't built up a long history of characters to predict from."
   ]
  },
  {
   "cell_type": "code",
   "execution_count": 0,
   "metadata": {
    "colab": {},
    "colab_type": "code",
    "id": "yChBMZypGCdc"
   },
   "outputs": [],
   "source": [
    "def sample(net, size, prime='The', top_k=None):\n",
    "        \n",
    "    if(train_on_gpu):\n",
    "        net.cuda()\n",
    "    else:\n",
    "        net.cpu()\n",
    "    \n",
    "    net.eval() # eval mode\n",
    "    \n",
    "    # First off, run through the prime characters\n",
    "    chars = [ch for ch in prime]\n",
    "    h = net.init_hidden(1)\n",
    "    for ch in prime:\n",
    "        char, h = predict(net, ch, h, top_k=top_k)\n",
    "\n",
    "    chars.append(char)\n",
    "    \n",
    "    # Now pass in the previous character and get a new one\n",
    "    for ii in range(size):\n",
    "        char, h = predict(net, chars[-1], h, top_k=top_k)\n",
    "        chars.append(char)\n",
    "\n",
    "    return ''.join(chars)"
   ]
  },
  {
   "cell_type": "code",
   "execution_count": 40,
   "metadata": {
    "colab": {
     "base_uri": "https://localhost:8080/",
     "height": 485
    },
    "colab_type": "code",
    "id": "dgA7XFHwGCde",
    "outputId": "f5ed1e9f-7b47-4fc1-a781-a38bd8cc2312"
   },
   "outputs": [
    {
     "name": "stdout",
     "output_type": "stream",
     "text": [
      "Anna.\n",
      "The carriage, had nimes of the courtes, which hind one of the races and sat down. She sat that\n",
      "is so that he\n",
      "would\n",
      "never could be no our came on\n",
      "the prince, and to say\n",
      "something to\n",
      "be supper and sude a divorce.\n",
      "\n",
      "Altore he was silent was still and silence with his worse. She came out of the spore of that the\n",
      "carreater, when he\n",
      "had been attentively\n",
      "admress, and to see\n",
      "the\n",
      "same train towards he was as he had to speak. The\n",
      "clush she had not\n",
      "told him.\n",
      "\n",
      "\"Anna tell you arreaded a divorce what is it you are the perfect of an held of man.\n",
      "\n",
      "\"Well, a may--buld terrs.\" That she came in that every heart work who were creak word,\n",
      "she saw that his second hand was the same of society, then was not anything. She spoke himself. But simply father she could be saying to\n",
      "them to the pavilion of the state, and all had that\n",
      "they were not face of the strame, she went up to her eathres, his setise serious stream, so too\n",
      "whise had said to himself.\n",
      "\n",
      "\"I am some too,\" she said, \"but I'm not the part of my arrival\n"
     ]
    }
   ],
   "source": [
    "print(sample(net, 1000, prime='Anna', top_k=5))"
   ]
  },
  {
   "cell_type": "markdown",
   "metadata": {
    "colab_type": "text",
    "id": "77wk3HERGCdg"
   },
   "source": [
    "## Loading a checkpoint"
   ]
  },
  {
   "cell_type": "code",
   "execution_count": 42,
   "metadata": {
    "colab": {
     "base_uri": "https://localhost:8080/",
     "height": 35
    },
    "colab_type": "code",
    "id": "h9_Jo1erGCdh",
    "outputId": "61fc1eab-02d5-4b58-e895-498afcf42a87"
   },
   "outputs": [
    {
     "data": {
      "text/plain": [
       "<All keys matched successfully>"
      ]
     },
     "execution_count": 42,
     "metadata": {
      "tags": []
     },
     "output_type": "execute_result"
    }
   ],
   "source": [
    "# Here we have loaded in a model that trained over 20 epochs `rnn_20_epoch.net`\n",
    "with open('rnn_x_epoch.net', 'rb') as f:\n",
    "    checkpoint = torch.load(f)\n",
    "    \n",
    "loaded = CharRNN(checkpoint['tokens'], n_hidden=checkpoint['n_hidden'], n_layers=checkpoint['n_layers'])\n",
    "loaded.load_state_dict(checkpoint['state_dict'])"
   ]
  },
  {
   "cell_type": "code",
   "execution_count": 43,
   "metadata": {
    "colab": {
     "base_uri": "https://localhost:8080/",
     "height": 679
    },
    "colab_type": "code",
    "id": "Cq4GZHAEGCdl",
    "outputId": "c6288fec-f906-46f8-d1d4-4e1585f647df"
   },
   "outputs": [
    {
     "name": "stdout",
     "output_type": "stream",
     "text": [
      "And Levin said a serious and time to make him and a still of a boy in\n",
      "his shouse. They could not have seemed to her, that she was a gray and seemed to herself, and he was still more at the mistere. And he had seeing to the morshes that he\n",
      "heard that this were asked her.\n",
      "\n",
      "\"I don't between the meeting,\" said Stepan Arkadyevitch, shairful at his\n",
      "shale in that\n",
      "secret to the\n",
      "princess\n",
      "treated him, but the\n",
      "plans of the morning, having would not get to make her and\n",
      "changer. He was senious she came and his eyes\n",
      "the part of her sheat and hand anything, as in his\n",
      "eyes,\n",
      "the counted\n",
      "the moment overcoat of the contrady to the secomations what had stood his\n",
      "face to have a girl changed him, and his\n",
      "hatten tried, the stood open were at thinking out the person of this children, him of\n",
      "such talits toother, when he had the\n",
      "country were a great still the members of a chair. She was astroduble affairs of home, and he had stapped and assented in him, and that impossible, what had been satisfied at everyone of his\n",
      "fashing of it. He was naken at one officual eyes. Sured his extreme of his hands to had tires with the countess and the softer came\n",
      "upon attroust is such a smile.\n",
      "\n",
      "\"What do you all them, as though I have been been to say so. Ind you think?\"\n",
      "\n",
      "Anna came at this family find and tray to be a little took of the party to him, so mare his life was even\n",
      "turned the mide, and to\n",
      "take all offeniness,\n",
      "as he was strucking his his wife, had no seen her,\n",
      "and\n",
      "she was satisfaction, but she could not gist the conversation that he drew the pastent that had breaghed train to his\n",
      "face with stupious. But he should have\n",
      "happy to all meet he was ener to the state, and he drove the clarges of a shade of\n",
      "such secretary and position. At the children was to seemen and\n",
      "trues, he was seeking in the morning out of the same coars and\n",
      "crisses.\n",
      "\n",
      "Stepan Arkadyevitch had that she was not till at the minute. But she still three through stranges, and again. He forgotten in her shouts, he was the boy and cleaded, were stairful in he\n"
     ]
    }
   ],
   "source": [
    "# Sample using a loaded model\n",
    "print(sample(loaded, 2000, top_k=5, prime=\"And Levin said\"))"
   ]
  },
  {
   "cell_type": "code",
   "execution_count": 0,
   "metadata": {
    "colab": {},
    "colab_type": "code",
    "id": "cXII1JrXGCdq"
   },
   "outputs": [],
   "source": []
  }
 ],
 "metadata": {
  "accelerator": "GPU",
  "colab": {
   "name": "Character_Level_RNN_Exercise.ipynb",
   "provenance": []
  },
  "kernelspec": {
   "display_name": "Python 3",
   "language": "python",
   "name": "python3"
  },
  "language_info": {
   "codemirror_mode": {
    "name": "ipython",
    "version": 3
   },
   "file_extension": ".py",
   "mimetype": "text/x-python",
   "name": "python",
   "nbconvert_exporter": "python",
   "pygments_lexer": "ipython3",
   "version": "3.7.1"
  }
 },
 "nbformat": 4,
 "nbformat_minor": 1
}
