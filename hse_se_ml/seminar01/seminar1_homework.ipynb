{
  "nbformat": 4,
  "nbformat_minor": 0,
  "metadata": {
    "kernelspec": {
      "display_name": "Python 3",
      "language": "python",
      "name": "python3"
    },
    "language_info": {
      "codemirror_mode": {
        "name": "ipython",
        "version": 3
      },
      "file_extension": ".py",
      "mimetype": "text/x-python",
      "name": "python",
      "nbconvert_exporter": "python",
      "pygments_lexer": "ipython3",
      "version": "3.7.4"
    },
    "colab": {
      "name": "Copy of seminar1-homework.ipynb",
      "provenance": [],
      "collapsed_sections": []
    }
  },
  "cells": [
    {
      "cell_type": "code",
      "metadata": {
        "id": "b4Juy3A5pwwH",
        "colab_type": "code",
        "colab": {}
      },
      "source": [
        "%matplotlib inline\n",
        "import numpy as np\n",
        "import pandas as pd\n",
        "import matplotlib.pyplot as plt"
      ],
      "execution_count": 0,
      "outputs": []
    },
    {
      "cell_type": "markdown",
      "metadata": {
        "id": "CYMcRXIopwwL",
        "colab_type": "text"
      },
      "source": [
        "# 1. Python"
      ]
    },
    {
      "cell_type": "markdown",
      "metadata": {
        "id": "e2o4Zt6npwwN",
        "colab_type": "text"
      },
      "source": [
        "**Task 1** (0.5 points)<br/> \n",
        "Enter numbers `a`,  `d` и `N`. Find sum of the first `N` members of arithmetic progression with the first member `a` and difference `d`, without using formula for the sum."
      ]
    },
    {
      "cell_type": "code",
      "metadata": {
        "id": "fEttkL4RpwwN",
        "colab_type": "code",
        "colab": {
          "base_uri": "https://localhost:8080/",
          "height": 87
        },
        "outputId": "129abe56-421c-4f58-f8bf-cc94635bb783"
      },
      "source": [
        "a = float(input('Enter a: '))\n",
        "d = float(input('Enter d: '))\n",
        "N = int(input('Enter N: '))\n",
        "for i in range(N):\n",
        "  a += d\n",
        "print(a)"
      ],
      "execution_count": 1,
      "outputs": [
        {
          "output_type": "stream",
          "text": [
            "Enter a: 1\n",
            "Enter d: 1\n",
            "Enter N: 2\n",
            "3.0\n"
          ],
          "name": "stdout"
        }
      ]
    },
    {
      "cell_type": "markdown",
      "metadata": {
        "id": "SFYaWytJpwwQ",
        "colab_type": "text"
      },
      "source": [
        "**Task 2** (0.5 points) <br/> \n",
        "Enter a number `N`. Find sum of the first `N` memebers of harmonic series."
      ]
    },
    {
      "cell_type": "code",
      "metadata": {
        "id": "B_IceL8XpwwR",
        "colab_type": "code",
        "colab": {
          "base_uri": "https://localhost:8080/",
          "height": 52
        },
        "outputId": "76cb7afb-e69c-4270-9d29-e26b99c3e460"
      },
      "source": [
        "N = int(input('Enter N: '))\n",
        "ans = 0\n",
        "for i in range(1,N+1):\n",
        "  ans += 1/i\n",
        "print(ans)"
      ],
      "execution_count": 4,
      "outputs": [
        {
          "output_type": "stream",
          "text": [
            "Enter N: 6\n",
            "2.4499999999999997\n"
          ],
          "name": "stdout"
        }
      ]
    },
    {
      "cell_type": "markdown",
      "metadata": {
        "id": "bYAjyczPpwwU",
        "colab_type": "text"
      },
      "source": [
        "**Task 3** (0.5 points) <br/> \n",
        "Enter an integer number `N`. Check if it is a prime number."
      ]
    },
    {
      "cell_type": "code",
      "metadata": {
        "id": "-7xuAy5KpwwV",
        "colab_type": "code",
        "colab": {
          "base_uri": "https://localhost:8080/",
          "height": 52
        },
        "outputId": "515769a3-1551-4ac7-be2e-d646432ac7c6"
      },
      "source": [
        "def is_prime(N):\n",
        "  ans = True\n",
        "  for i in range(2,N):\n",
        "    if N % i == 0:\n",
        "      return False\n",
        "  return True\n",
        "\n",
        "N = int(input('Enter N: '))\n",
        "print(is_prime(N))"
      ],
      "execution_count": 9,
      "outputs": [
        {
          "output_type": "stream",
          "text": [
            "Enter N: 47\n",
            "True\n"
          ],
          "name": "stdout"
        }
      ]
    },
    {
      "cell_type": "markdown",
      "metadata": {
        "id": "_hOW9ADRpwwY",
        "colab_type": "text"
      },
      "source": [
        "**Task 4** (0.5 points) <br/> \n",
        "Enter the first `N` prime numbers."
      ]
    },
    {
      "cell_type": "code",
      "metadata": {
        "id": "cF11BGrgpwwZ",
        "colab_type": "code",
        "colab": {
          "base_uri": "https://localhost:8080/",
          "height": 121
        },
        "outputId": "2beb4590-7c20-42c1-e650-1b7d45ba3410"
      },
      "source": [
        "N = int(input('Enter N: '))\n",
        "i = 1\n",
        "while N > 0:\n",
        "  if is_prime(i):\n",
        "    N -= 1\n",
        "    print(i)\n",
        "  i += 1"
      ],
      "execution_count": 14,
      "outputs": [
        {
          "output_type": "stream",
          "text": [
            "Enter N: 5\n",
            "1\n",
            "2\n",
            "3\n",
            "5\n",
            "7\n"
          ],
          "name": "stdout"
        }
      ]
    },
    {
      "cell_type": "markdown",
      "metadata": {
        "id": "vjlPUbqYpwwf",
        "colab_type": "text"
      },
      "source": [
        "**Task 5** (0.5 points) <br/> \n",
        "There are numbers: `a`, `b`, `c`. Without using functions `min`, `max` and other functions, find the maximum number."
      ]
    },
    {
      "cell_type": "code",
      "metadata": {
        "id": "F1rwZ14cpwwg",
        "colab_type": "code",
        "colab": {
          "base_uri": "https://localhost:8080/",
          "height": 87
        },
        "outputId": "4538e341-93c9-489a-f891-7c2c61260fbd"
      },
      "source": [
        "a, b, c = [float(input('Enter {} number: '.format(x))) for x in range(1,4)]\n",
        "a = a if a > b else b\n",
        "print(a if a > c else c)"
      ],
      "execution_count": 21,
      "outputs": [
        {
          "output_type": "stream",
          "text": [
            "Enter 1 number: 203\n",
            "Enter 2 number: 152512\n",
            "Enter 3 number: 2324\n",
            "152512.0\n"
          ],
          "name": "stdout"
        }
      ]
    },
    {
      "cell_type": "markdown",
      "metadata": {
        "id": "8V1M1B8mpwwj",
        "colab_type": "text"
      },
      "source": [
        "# 2. Numpy"
      ]
    },
    {
      "cell_type": "markdown",
      "metadata": {
        "id": "bjVWGIpHpwwk",
        "colab_type": "text"
      },
      "source": [
        "**Task 1** (0.5 points) <br/>\n",
        "Create two random arrays $a$ and $b$ with the same length. \n",
        "\n",
        "Calculate the following distances between the arrays:\n",
        "\n",
        "* Euclidean Distance\n",
        "$$ d(a, b) = \\sqrt{\\sum_i (a_i - b_i)^2} $$\n",
        "* Manhattan Distance\n",
        "$$ d(a, b) = \\sum_i |a_i - b_i| $$\n",
        "* Cosine Distance\n",
        "$$ d(a, b) = 1 - \\frac{a^\\top b}{||a||_2\\cdot||b||_2}$$\n"
      ]
    },
    {
      "cell_type": "code",
      "metadata": {
        "id": "H9M1JHNzpwwl",
        "colab_type": "code",
        "colab": {
          "base_uri": "https://localhost:8080/",
          "height": 69
        },
        "outputId": "30f0d1da-8530-467e-b403-1d7bab7c242d"
      },
      "source": [
        "a = np.random.rand(3)\n",
        "b = np.random.rand(3)\n",
        "print(\"Euclidean Distance: \", np.linalg.norm(a-b))\n",
        "print(\"Manhattan Distance: \", np.abs(a-b).sum())\n",
        "print(\"Cosine Distance: \", 1 - a.T @ b / (np.linalg.norm(a) * np.linalg.norm(a)))"
      ],
      "execution_count": 43,
      "outputs": [
        {
          "output_type": "stream",
          "text": [
            "Euclidean Distance:  0.8230680676491637\n",
            "Manhattan Distance:  1.2151999887502\n",
            "Cosine Distance:  0.31419423313913897\n"
          ],
          "name": "stdout"
        }
      ]
    },
    {
      "cell_type": "markdown",
      "metadata": {
        "id": "M6jbZ_Hbpwwo",
        "colab_type": "text"
      },
      "source": [
        "**Task 2** (0.5 points) <br/>\n",
        "Create a random array (`np.random.rand()`) with length of 10 and with sum of its elements equals to 2."
      ]
    },
    {
      "cell_type": "code",
      "metadata": {
        "id": "txQQeRhvpwwp",
        "colab_type": "code",
        "colab": {
          "base_uri": "https://localhost:8080/",
          "height": 35
        },
        "outputId": "d4372646-017e-4611-8a43-3d707fe81721"
      },
      "source": [
        "a = np.random.rand(10)\n",
        "a /= (a.sum() / 2)\n",
        "a.sum()"
      ],
      "execution_count": 56,
      "outputs": [
        {
          "output_type": "execute_result",
          "data": {
            "text/plain": [
              "2.0"
            ]
          },
          "metadata": {
            "tags": []
          },
          "execution_count": 56
        }
      ]
    },
    {
      "cell_type": "markdown",
      "metadata": {
        "id": "6jY7mNdcpwwr",
        "colab_type": "text"
      },
      "source": [
        "**Task 3** (0.5 points) <br/>\n",
        "Create a random array (`np.random.rand()`) with length of 100. Transform the array so, that \n",
        "* Maximum element(s) value is 1\n",
        "* Minimum element(s) value is 0\n",
        "* Other values are in interval 0-1 with keeping the order"
      ]
    },
    {
      "cell_type": "code",
      "metadata": {
        "id": "jLa5GXVrpwws",
        "colab_type": "code",
        "colab": {}
      },
      "source": [
        "a = np.random.rand(100)\n",
        "a -= a.min()\n",
        "a *= 1 / a.max()\n",
        "assert a.min() == 0\n",
        "assert a.max() == 1"
      ],
      "execution_count": 0,
      "outputs": []
    },
    {
      "cell_type": "markdown",
      "metadata": {
        "id": "EHNC7ofEpwwv",
        "colab_type": "text"
      },
      "source": [
        "**Task 4** (0.5 points) <br/>\n",
        "Create a random array with length of 20 with integers from [0,50]. Select elements that are smaller than 5th percentile and larger than 95th percentile"
      ]
    },
    {
      "cell_type": "code",
      "metadata": {
        "id": "5nZIU6F1pwww",
        "colab_type": "code",
        "colab": {
          "base_uri": "https://localhost:8080/",
          "height": 52
        },
        "outputId": "38a3d228-d991-4103-d8b1-fed0c4f8061d"
      },
      "source": [
        "a = np.random.randint(0, high=51, size=(20))\n",
        "per5 = np.percentile(a, 5)\n",
        "per95 = np.percentile(a, 95)\n",
        "smaller = []\n",
        "larger = []\n",
        "for i in a:\n",
        "  if i > per95:\n",
        "    larger.append(i)\n",
        "  elif i < per5:\n",
        "    smaller.append(i)\n",
        "\n",
        "print('Elements that are smaller then 5th percentile: ', smaller)\n",
        "print('Elements that are larger then 95th percentile: ', larger)"
      ],
      "execution_count": 83,
      "outputs": [
        {
          "output_type": "stream",
          "text": [
            "Elements that are smaller then 5th percentile:  [8]\n",
            "Elements that are larger then 95th percentile:  [44]\n"
          ],
          "name": "stdout"
        }
      ]
    },
    {
      "cell_type": "markdown",
      "metadata": {
        "id": "73j8sZ0qpwwy",
        "colab_type": "text"
      },
      "source": [
        "**Task 5** (0.5 points) <br/>\n",
        "Create an array with shape of $5 \\times 6$ with integer from [0,50]. Print a column that contains the maximum element of the array."
      ]
    },
    {
      "cell_type": "code",
      "metadata": {
        "id": "gMiPNXfgpwwz",
        "colab_type": "code",
        "colab": {
          "base_uri": "https://localhost:8080/",
          "height": 139
        },
        "outputId": "2a45d6e8-ebe2-44d1-b87a-a3a09bb78244"
      },
      "source": [
        "a = np.random.randint(0, high=51, size=(5,6))\n",
        "print(a)\n",
        "print('\\nA column with maximum element: ', a[:,a.argmax() % a.shape[1]])"
      ],
      "execution_count": 108,
      "outputs": [
        {
          "output_type": "stream",
          "text": [
            "[[ 2  4 45  5 28 20]\n",
            " [46 33  2 47 28 27]\n",
            " [32 35  6 45 23  3]\n",
            " [32 48 23 37 27 30]\n",
            " [28 13 25 28 50 18]]\n",
            "\n",
            "A column with maximum element:  [28 28 23 27 50]\n"
          ],
          "name": "stdout"
        }
      ]
    },
    {
      "cell_type": "markdown",
      "metadata": {
        "id": "YwO8694Wpww2",
        "colab_type": "text"
      },
      "source": [
        "**Task 6** (0.5 points) <br/>\n",
        "\n",
        "Replace all missing values in the following array with mean."
      ]
    },
    {
      "cell_type": "code",
      "metadata": {
        "id": "bNa7TMERpww3",
        "colab_type": "code",
        "outputId": "cbc5bd85-8272-4b3e-ceca-936cd54ce938",
        "colab": {
          "base_uri": "https://localhost:8080/",
          "height": 52
        }
      },
      "source": [
        "arr = np.random.rand(10)\n",
        "idx = np.random.randint(0, 10, 4)\n",
        "arr[idx] = np.nan\n",
        "arr"
      ],
      "execution_count": 131,
      "outputs": [
        {
          "output_type": "execute_result",
          "data": {
            "text/plain": [
              "array([0.43158377,        nan, 0.25697719, 0.54443566,        nan,\n",
              "       0.31365526, 0.70669769, 0.80632957,        nan, 0.08006958])"
            ]
          },
          "metadata": {
            "tags": []
          },
          "execution_count": 131
        }
      ]
    },
    {
      "cell_type": "code",
      "metadata": {
        "id": "uGBJUCnUpww8",
        "colab_type": "code",
        "colab": {
          "base_uri": "https://localhost:8080/",
          "height": 52
        },
        "outputId": "3b167b69-ba6a-43d6-f0db-8a270a4fa2fc"
      },
      "source": [
        "nan_mask = np.isnan(arr)\n",
        "arr[nan_mask] = arr[nan_mask ^ True].mean()\n",
        "arr"
      ],
      "execution_count": 132,
      "outputs": [
        {
          "output_type": "execute_result",
          "data": {
            "text/plain": [
              "array([0.43158377, 0.44853553, 0.25697719, 0.54443566, 0.44853553,\n",
              "       0.31365526, 0.70669769, 0.80632957, 0.44853553, 0.08006958])"
            ]
          },
          "metadata": {
            "tags": []
          },
          "execution_count": 132
        }
      ]
    },
    {
      "cell_type": "markdown",
      "metadata": {
        "id": "_KimFUPSpww_",
        "colab_type": "text"
      },
      "source": [
        "### Linear Regression"
      ]
    },
    {
      "cell_type": "markdown",
      "metadata": {
        "id": "eZy1hj1lpwxA",
        "colab_type": "text"
      },
      "source": [
        "Download [file 1](https://www.dropbox.com/s/kg9px9v3xfysak9/tutorial_dataset.csv?dl=0) and [file 2](https://www.dropbox.com/s/f87gm612o144emx/tutorial_dataset_2.csv?dl=0) into a directory with this notebook. Using function `loadtxt` in `numpy` load data from the first file. Assign y = D[:,0] аnd X = D[:, 1:].\n",
        "\n",
        "\n",
        "We will use one magic formula to find linear regression coefficients. You will prove this formula on your next lectures of the course.\n",
        "\n",
        "Linear regression model in matrix form looks like: $\\hat{y} = X\\hat{\\beta}$, where\n",
        "\n",
        "$$ \\hat{\\beta} = (X^\\top X)^{-1} X^\\top y $$\n",
        "Model residuals are calculated as\n",
        "$$ \\text{res} = y - \\hat{y} $$\n",
        "\n",
        "\n",
        "**Task 7** (2.5 points)<br/>\n",
        "1. Load the data\n",
        "2. Find parameters $\\hat{\\beta}$ using the formula above\n",
        "3. Make a plot with the model residuals on Y axis and $\\hat{y}$ on X axis"
      ]
    },
    {
      "cell_type": "code",
      "metadata": {
        "id": "557VqC8npwxB",
        "colab_type": "code",
        "colab": {
          "base_uri": "https://localhost:8080/",
          "height": 283
        },
        "outputId": "e1d30993-e527-4e90-b388-4864bf9a1ebc"
      },
      "source": [
        "## load data\n",
        "D = np.loadtxt('tutorial_dataset.csv', \n",
        "               skiprows=1, \n",
        "               delimiter=',')\n",
        "\n",
        "## Your code here\n",
        "y = D[:,0]\n",
        "X = D[:,1:]\n",
        "beta = (X.T @ X)**-1 @ X.T @ y\n",
        "y_predict = X @ beta\n",
        "res = y - y_predict\n",
        "\n",
        "plt.plot(y_predict, res)"
      ],
      "execution_count": 143,
      "outputs": [
        {
          "output_type": "execute_result",
          "data": {
            "text/plain": [
              "[<matplotlib.lines.Line2D at 0x7f5db12277f0>]"
            ]
          },
          "metadata": {
            "tags": []
          },
          "execution_count": 143
        },
        {
          "output_type": "display_data",
          "data": {
            "image/png": "[encoded data removed]",
            "text/plain": [
              "<Figure size 432x288 with 1 Axes>"
            ]
          },
          "metadata": {
            "tags": []
          }
        }
      ]
    },
    {
      "cell_type": "markdown",
      "metadata": {
        "id": "3mKT3oDtpwxD",
        "colab_type": "text"
      },
      "source": [
        "# 3. Pandas"
      ]
    },
    {
      "cell_type": "markdown",
      "metadata": {
        "id": "uGWRuM0apwxE",
        "colab_type": "text"
      },
      "source": [
        "### Wine Quality"
      ]
    },
    {
      "cell_type": "markdown",
      "metadata": {
        "id": "vyWlMXplpwxF",
        "colab_type": "text"
      },
      "source": [
        "Download [sample](https://archive.ics.uci.edu/ml/machine-learning-databases/wine-quality/winequality-red.csv) with information about wine characteristics and its quality."
      ]
    },
    {
      "cell_type": "code",
      "metadata": {
        "id": "cEIpIlmBpwxG",
        "colab_type": "code",
        "colab": {}
      },
      "source": [
        "## Your code here"
      ],
      "execution_count": 0,
      "outputs": []
    },
    {
      "cell_type": "markdown",
      "metadata": {
        "id": "2-1DXNsMpwxJ",
        "colab_type": "text"
      },
      "source": [
        "**Task 1 ** (1 point) <br/>\n",
        "* How much objects are in the sample?\n",
        "* What features describe the objects? How much these features?\n",
        "* What is feature a target variable?\n",
        "* What are their ranges?\n",
        "* Are there any missing values?"
      ]
    },
    {
      "cell_type": "code",
      "metadata": {
        "id": "QkUYz-mtpwxK",
        "colab_type": "code",
        "colab": {}
      },
      "source": [
        "## Your code and answers here"
      ],
      "execution_count": 0,
      "outputs": []
    },
    {
      "cell_type": "markdown",
      "metadata": {
        "id": "oko2p9lApwxM",
        "colab_type": "text"
      },
      "source": [
        "**Task 2** (1 point)<br/>\n",
        "What features affect the target variable the most?"
      ]
    },
    {
      "cell_type": "code",
      "metadata": {
        "id": "MTa_FPKnpwxM",
        "colab_type": "code",
        "colab": {}
      },
      "source": [
        "## Your code here"
      ],
      "execution_count": 0,
      "outputs": []
    }
  ]
}